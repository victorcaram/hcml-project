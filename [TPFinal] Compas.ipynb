{
 "cells": [
  {
   "cell_type": "code",
   "execution_count": 70,
   "metadata": {},
   "outputs": [],
   "source": [
    "import pandas as pd\n",
    "from sklearn.linear_model import LogisticRegression\n",
    "from sklearn.linear_model import LogisticRegressionCV\n",
    "from sklearn.model_selection import train_test_split\n",
    "from sklearn.metrics import precision_recall_fscore_support\n",
    "import numpy as np\n",
    "import seaborn as sns"
   ]
  },
  {
   "cell_type": "code",
   "execution_count": 71,
   "metadata": {},
   "outputs": [
    {
     "data": {
      "text/html": [
       "<div>\n",
       "<style scoped>\n",
       "    .dataframe tbody tr th:only-of-type {\n",
       "        vertical-align: middle;\n",
       "    }\n",
       "\n",
       "    .dataframe tbody tr th {\n",
       "        vertical-align: top;\n",
       "    }\n",
       "\n",
       "    .dataframe thead th {\n",
       "        text-align: right;\n",
       "    }\n",
       "</style>\n",
       "<table border=\"1\" class=\"dataframe\">\n",
       "  <thead>\n",
       "    <tr style=\"text-align: right;\">\n",
       "      <th></th>\n",
       "      <th>id</th>\n",
       "      <th>name</th>\n",
       "      <th>first</th>\n",
       "      <th>last</th>\n",
       "      <th>compas_screening_date</th>\n",
       "      <th>sex</th>\n",
       "      <th>dob</th>\n",
       "      <th>age</th>\n",
       "      <th>age_cat</th>\n",
       "      <th>race</th>\n",
       "      <th>...</th>\n",
       "      <th>v_decile_score</th>\n",
       "      <th>v_score_text</th>\n",
       "      <th>v_screening_date</th>\n",
       "      <th>in_custody</th>\n",
       "      <th>out_custody</th>\n",
       "      <th>priors_count.1</th>\n",
       "      <th>start</th>\n",
       "      <th>end</th>\n",
       "      <th>event</th>\n",
       "      <th>two_year_recid</th>\n",
       "    </tr>\n",
       "  </thead>\n",
       "  <tbody>\n",
       "    <tr>\n",
       "      <th>1</th>\n",
       "      <td>3</td>\n",
       "      <td>kevon dixon</td>\n",
       "      <td>kevon</td>\n",
       "      <td>dixon</td>\n",
       "      <td>2013-01-27</td>\n",
       "      <td>Male</td>\n",
       "      <td>1982-01-22</td>\n",
       "      <td>34</td>\n",
       "      <td>25 - 45</td>\n",
       "      <td>African-American</td>\n",
       "      <td>...</td>\n",
       "      <td>1</td>\n",
       "      <td>Low</td>\n",
       "      <td>2013-01-27</td>\n",
       "      <td>2013-01-26</td>\n",
       "      <td>2013-02-05</td>\n",
       "      <td>0</td>\n",
       "      <td>9</td>\n",
       "      <td>159</td>\n",
       "      <td>1</td>\n",
       "      <td>1</td>\n",
       "    </tr>\n",
       "    <tr>\n",
       "      <th>2</th>\n",
       "      <td>4</td>\n",
       "      <td>ed philo</td>\n",
       "      <td>ed</td>\n",
       "      <td>philo</td>\n",
       "      <td>2013-04-14</td>\n",
       "      <td>Male</td>\n",
       "      <td>1991-05-14</td>\n",
       "      <td>24</td>\n",
       "      <td>Less than 25</td>\n",
       "      <td>African-American</td>\n",
       "      <td>...</td>\n",
       "      <td>3</td>\n",
       "      <td>Low</td>\n",
       "      <td>2013-04-14</td>\n",
       "      <td>2013-06-16</td>\n",
       "      <td>2013-06-16</td>\n",
       "      <td>4</td>\n",
       "      <td>0</td>\n",
       "      <td>63</td>\n",
       "      <td>0</td>\n",
       "      <td>1</td>\n",
       "    </tr>\n",
       "    <tr>\n",
       "      <th>3</th>\n",
       "      <td>5</td>\n",
       "      <td>marcu brown</td>\n",
       "      <td>marcu</td>\n",
       "      <td>brown</td>\n",
       "      <td>2013-01-13</td>\n",
       "      <td>Male</td>\n",
       "      <td>1993-01-21</td>\n",
       "      <td>23</td>\n",
       "      <td>Less than 25</td>\n",
       "      <td>African-American</td>\n",
       "      <td>...</td>\n",
       "      <td>6</td>\n",
       "      <td>Medium</td>\n",
       "      <td>2013-01-13</td>\n",
       "      <td>NaN</td>\n",
       "      <td>NaN</td>\n",
       "      <td>1</td>\n",
       "      <td>0</td>\n",
       "      <td>1174</td>\n",
       "      <td>0</td>\n",
       "      <td>0</td>\n",
       "    </tr>\n",
       "    <tr>\n",
       "      <th>6</th>\n",
       "      <td>8</td>\n",
       "      <td>edward riddle</td>\n",
       "      <td>edward</td>\n",
       "      <td>riddle</td>\n",
       "      <td>2014-02-19</td>\n",
       "      <td>Male</td>\n",
       "      <td>1974-07-23</td>\n",
       "      <td>41</td>\n",
       "      <td>25 - 45</td>\n",
       "      <td>Caucasian</td>\n",
       "      <td>...</td>\n",
       "      <td>2</td>\n",
       "      <td>Low</td>\n",
       "      <td>2014-02-19</td>\n",
       "      <td>2014-03-31</td>\n",
       "      <td>2014-04-18</td>\n",
       "      <td>14</td>\n",
       "      <td>5</td>\n",
       "      <td>40</td>\n",
       "      <td>1</td>\n",
       "      <td>1</td>\n",
       "    </tr>\n",
       "    <tr>\n",
       "      <th>8</th>\n",
       "      <td>10</td>\n",
       "      <td>elizabeth thieme</td>\n",
       "      <td>elizabeth</td>\n",
       "      <td>thieme</td>\n",
       "      <td>2014-03-16</td>\n",
       "      <td>Female</td>\n",
       "      <td>1976-06-03</td>\n",
       "      <td>39</td>\n",
       "      <td>25 - 45</td>\n",
       "      <td>Caucasian</td>\n",
       "      <td>...</td>\n",
       "      <td>1</td>\n",
       "      <td>Low</td>\n",
       "      <td>2014-03-16</td>\n",
       "      <td>2014-03-15</td>\n",
       "      <td>2014-03-18</td>\n",
       "      <td>0</td>\n",
       "      <td>2</td>\n",
       "      <td>747</td>\n",
       "      <td>0</td>\n",
       "      <td>0</td>\n",
       "    </tr>\n",
       "  </tbody>\n",
       "</table>\n",
       "<p>5 rows × 53 columns</p>\n",
       "</div>"
      ],
      "text/plain": [
       "   id              name      first    last compas_screening_date     sex  \\\n",
       "1   3       kevon dixon      kevon   dixon            2013-01-27    Male   \n",
       "2   4          ed philo         ed   philo            2013-04-14    Male   \n",
       "3   5       marcu brown      marcu   brown            2013-01-13    Male   \n",
       "6   8     edward riddle     edward  riddle            2014-02-19    Male   \n",
       "8  10  elizabeth thieme  elizabeth  thieme            2014-03-16  Female   \n",
       "\n",
       "          dob  age       age_cat              race      ...        \\\n",
       "1  1982-01-22   34       25 - 45  African-American      ...         \n",
       "2  1991-05-14   24  Less than 25  African-American      ...         \n",
       "3  1993-01-21   23  Less than 25  African-American      ...         \n",
       "6  1974-07-23   41       25 - 45         Caucasian      ...         \n",
       "8  1976-06-03   39       25 - 45         Caucasian      ...         \n",
       "\n",
       "   v_decile_score  v_score_text  v_screening_date  in_custody  out_custody  \\\n",
       "1               1           Low        2013-01-27  2013-01-26   2013-02-05   \n",
       "2               3           Low        2013-04-14  2013-06-16   2013-06-16   \n",
       "3               6        Medium        2013-01-13         NaN          NaN   \n",
       "6               2           Low        2014-02-19  2014-03-31   2014-04-18   \n",
       "8               1           Low        2014-03-16  2014-03-15   2014-03-18   \n",
       "\n",
       "   priors_count.1 start   end event two_year_recid  \n",
       "1               0     9   159     1              1  \n",
       "2               4     0    63     0              1  \n",
       "3               1     0  1174     0              0  \n",
       "6              14     5    40     1              1  \n",
       "8               0     2   747     0              0  \n",
       "\n",
       "[5 rows x 53 columns]"
      ]
     },
     "execution_count": 71,
     "metadata": {},
     "output_type": "execute_result"
    }
   ],
   "source": [
    "df = pd.read_csv('compas-scores-two-years.csv')\n",
    "df = df[df.race.isin(['Caucasian', 'African-American'])]\n",
    "df.head()"
   ]
  },
  {
   "cell_type": "markdown",
   "metadata": {},
   "source": [
    "### Tratando os dados"
   ]
  },
  {
   "cell_type": "markdown",
   "metadata": {},
   "source": [
    "Assim como a análise da ProPublica "
   ]
  },
  {
   "cell_type": "code",
   "execution_count": 72,
   "metadata": {},
   "outputs": [],
   "source": [
    "column_names = ['age', 'c_charge_degree', 'race', 'age_cat', 'score_text', 'sex', 'priors_count',\n",
    "                'days_b_screening_arrest', 'decile_score', 'is_recid', 'two_year_recid',\n",
    "                'c_jail_in', 'c_jail_out']"
   ]
  },
  {
   "cell_type": "code",
   "execution_count": 73,
   "metadata": {},
   "outputs": [
    {
     "data": {
      "text/html": [
       "<div>\n",
       "<style scoped>\n",
       "    .dataframe tbody tr th:only-of-type {\n",
       "        vertical-align: middle;\n",
       "    }\n",
       "\n",
       "    .dataframe tbody tr th {\n",
       "        vertical-align: top;\n",
       "    }\n",
       "\n",
       "    .dataframe thead th {\n",
       "        text-align: right;\n",
       "    }\n",
       "</style>\n",
       "<table border=\"1\" class=\"dataframe\">\n",
       "  <thead>\n",
       "    <tr style=\"text-align: right;\">\n",
       "      <th></th>\n",
       "      <th>age</th>\n",
       "      <th>c_charge_degree</th>\n",
       "      <th>race</th>\n",
       "      <th>age_cat</th>\n",
       "      <th>score_text</th>\n",
       "      <th>sex</th>\n",
       "      <th>priors_count</th>\n",
       "      <th>days_b_screening_arrest</th>\n",
       "      <th>decile_score</th>\n",
       "      <th>is_recid</th>\n",
       "      <th>two_year_recid</th>\n",
       "      <th>c_jail_in</th>\n",
       "      <th>c_jail_out</th>\n",
       "    </tr>\n",
       "  </thead>\n",
       "  <tbody>\n",
       "    <tr>\n",
       "      <th>1</th>\n",
       "      <td>34</td>\n",
       "      <td>F</td>\n",
       "      <td>African-American</td>\n",
       "      <td>25 - 45</td>\n",
       "      <td>Low</td>\n",
       "      <td>Male</td>\n",
       "      <td>0</td>\n",
       "      <td>-1.0</td>\n",
       "      <td>3</td>\n",
       "      <td>1</td>\n",
       "      <td>1</td>\n",
       "      <td>2013-01-26 03:45:27</td>\n",
       "      <td>2013-02-05 05:36:53</td>\n",
       "    </tr>\n",
       "    <tr>\n",
       "      <th>2</th>\n",
       "      <td>24</td>\n",
       "      <td>F</td>\n",
       "      <td>African-American</td>\n",
       "      <td>Less than 25</td>\n",
       "      <td>Low</td>\n",
       "      <td>Male</td>\n",
       "      <td>4</td>\n",
       "      <td>-1.0</td>\n",
       "      <td>4</td>\n",
       "      <td>1</td>\n",
       "      <td>1</td>\n",
       "      <td>2013-04-13 04:58:34</td>\n",
       "      <td>2013-04-14 07:02:04</td>\n",
       "    </tr>\n",
       "    <tr>\n",
       "      <th>6</th>\n",
       "      <td>41</td>\n",
       "      <td>F</td>\n",
       "      <td>Caucasian</td>\n",
       "      <td>25 - 45</td>\n",
       "      <td>Medium</td>\n",
       "      <td>Male</td>\n",
       "      <td>14</td>\n",
       "      <td>-1.0</td>\n",
       "      <td>6</td>\n",
       "      <td>1</td>\n",
       "      <td>1</td>\n",
       "      <td>2014-02-18 05:08:24</td>\n",
       "      <td>2014-02-24 12:18:30</td>\n",
       "    </tr>\n",
       "    <tr>\n",
       "      <th>8</th>\n",
       "      <td>39</td>\n",
       "      <td>M</td>\n",
       "      <td>Caucasian</td>\n",
       "      <td>25 - 45</td>\n",
       "      <td>Low</td>\n",
       "      <td>Female</td>\n",
       "      <td>0</td>\n",
       "      <td>-1.0</td>\n",
       "      <td>1</td>\n",
       "      <td>0</td>\n",
       "      <td>0</td>\n",
       "      <td>2014-03-15 05:35:34</td>\n",
       "      <td>2014-03-18 04:28:46</td>\n",
       "    </tr>\n",
       "    <tr>\n",
       "      <th>10</th>\n",
       "      <td>27</td>\n",
       "      <td>F</td>\n",
       "      <td>Caucasian</td>\n",
       "      <td>25 - 45</td>\n",
       "      <td>Low</td>\n",
       "      <td>Male</td>\n",
       "      <td>0</td>\n",
       "      <td>-1.0</td>\n",
       "      <td>4</td>\n",
       "      <td>0</td>\n",
       "      <td>0</td>\n",
       "      <td>2013-11-25 06:31:06</td>\n",
       "      <td>2013-11-26 08:26:57</td>\n",
       "    </tr>\n",
       "  </tbody>\n",
       "</table>\n",
       "</div>"
      ],
      "text/plain": [
       "    age c_charge_degree              race       age_cat score_text     sex  \\\n",
       "1    34               F  African-American       25 - 45        Low    Male   \n",
       "2    24               F  African-American  Less than 25        Low    Male   \n",
       "6    41               F         Caucasian       25 - 45     Medium    Male   \n",
       "8    39               M         Caucasian       25 - 45        Low  Female   \n",
       "10   27               F         Caucasian       25 - 45        Low    Male   \n",
       "\n",
       "    priors_count  days_b_screening_arrest  decile_score  is_recid  \\\n",
       "1              0                     -1.0             3         1   \n",
       "2              4                     -1.0             4         1   \n",
       "6             14                     -1.0             6         1   \n",
       "8              0                     -1.0             1         0   \n",
       "10             0                     -1.0             4         0   \n",
       "\n",
       "    two_year_recid            c_jail_in           c_jail_out  \n",
       "1                1  2013-01-26 03:45:27  2013-02-05 05:36:53  \n",
       "2                1  2013-04-13 04:58:34  2013-04-14 07:02:04  \n",
       "6                1  2014-02-18 05:08:24  2014-02-24 12:18:30  \n",
       "8                0  2014-03-15 05:35:34  2014-03-18 04:28:46  \n",
       "10               0  2013-11-25 06:31:06  2013-11-26 08:26:57  "
      ]
     },
     "execution_count": 73,
     "metadata": {},
     "output_type": "execute_result"
    }
   ],
   "source": [
    "df = df[df['days_b_screening_arrest'] <= 30]\n",
    "df = df[df['days_b_screening_arrest'] >= -30]\n",
    "df = df[df['is_recid'] != -1]\n",
    "df = df[df['c_charge_degree'] != 'O']\n",
    "df = df[df['score_text'] != 'N/A']\n",
    "df[column_names].head()"
   ]
  },
  {
   "cell_type": "code",
   "execution_count": 74,
   "metadata": {},
   "outputs": [
    {
     "name": "stdout",
     "output_type": "stream",
     "text": [
      "{0: 'Female', 1: 'Male'}\n"
     ]
    }
   ],
   "source": [
    "sex_dict = dict(enumerate(df['sex'].astype('category').cat.categories))\n",
    "print(sex_dict)\n",
    "df['c_sex'] = df['sex'].astype('category').cat.codes"
   ]
  },
  {
   "cell_type": "code",
   "execution_count": 75,
   "metadata": {},
   "outputs": [
    {
     "name": "stdout",
     "output_type": "stream",
     "text": [
      "{0: '25 - 45', 1: 'Greater than 45', 2: 'Less than 25'}\n"
     ]
    }
   ],
   "source": [
    "age_dict = dict(enumerate(df['age_cat'].astype('category').cat.categories))\n",
    "print(age_dict)\n",
    "df['c_age_cat'] = df['age_cat'].astype('category').cat.codes"
   ]
  },
  {
   "cell_type": "code",
   "execution_count": 76,
   "metadata": {},
   "outputs": [
    {
     "name": "stdout",
     "output_type": "stream",
     "text": [
      "{0: 'F', 1: 'M'}\n"
     ]
    }
   ],
   "source": [
    "charge_dict = dict(enumerate(df['c_charge_degree'].astype('category').cat.categories))\n",
    "print(charge_dict)\n",
    "df['c_c_charge_degree'] = df['c_charge_degree'].astype('category').cat.codes"
   ]
  },
  {
   "cell_type": "code",
   "execution_count": 77,
   "metadata": {},
   "outputs": [
    {
     "name": "stdout",
     "output_type": "stream",
     "text": [
      "{0: 'African-American', 1: 'Caucasian'}\n"
     ]
    }
   ],
   "source": [
    "race_dict = dict(enumerate(df['race'].astype('category').cat.categories))\n",
    "print(race_dict)\n",
    "df['c_race'] = df['race'].astype('category').cat.codes"
   ]
  },
  {
   "cell_type": "code",
   "execution_count": 78,
   "metadata": {},
   "outputs": [
    {
     "name": "stdout",
     "output_type": "stream",
     "text": [
      "{0: 'High', 1: 'Low', 2: 'Medium'}\n"
     ]
    }
   ],
   "source": [
    "score_dict = dict(enumerate(df['score_text'].astype('category').cat.categories))\n",
    "print(score_dict)\n",
    "df['c_score_text'] = df['score_text'].astype('category').cat.codes"
   ]
  },
  {
   "cell_type": "code",
   "execution_count": null,
   "metadata": {},
   "outputs": [],
   "source": []
  },
  {
   "cell_type": "code",
   "execution_count": 79,
   "metadata": {},
   "outputs": [],
   "source": [
    "# df['c_jail_in'].astype('datetime64').astype('int64')\n",
    "df['length_of_stay'] =  df['c_jail_out'].astype('datetime64').astype('int64') - df['c_jail_in'].astype('datetime64').astype('int64')"
   ]
  },
  {
   "cell_type": "code",
   "execution_count": 80,
   "metadata": {
    "scrolled": true
   },
   "outputs": [
    {
     "data": {
      "text/html": [
       "<div>\n",
       "<style scoped>\n",
       "    .dataframe tbody tr th:only-of-type {\n",
       "        vertical-align: middle;\n",
       "    }\n",
       "\n",
       "    .dataframe tbody tr th {\n",
       "        vertical-align: top;\n",
       "    }\n",
       "\n",
       "    .dataframe thead th {\n",
       "        text-align: right;\n",
       "    }\n",
       "</style>\n",
       "<table border=\"1\" class=\"dataframe\">\n",
       "  <thead>\n",
       "    <tr style=\"text-align: right;\">\n",
       "      <th></th>\n",
       "      <th>age</th>\n",
       "      <th>c_c_charge_degree</th>\n",
       "      <th>c_race</th>\n",
       "      <th>c_age_cat</th>\n",
       "      <th>c_score_text</th>\n",
       "      <th>c_sex</th>\n",
       "      <th>priors_count</th>\n",
       "      <th>days_b_screening_arrest</th>\n",
       "      <th>decile_score</th>\n",
       "      <th>is_recid</th>\n",
       "      <th>two_year_recid</th>\n",
       "    </tr>\n",
       "  </thead>\n",
       "  <tbody>\n",
       "    <tr>\n",
       "      <th>1</th>\n",
       "      <td>34</td>\n",
       "      <td>0</td>\n",
       "      <td>0</td>\n",
       "      <td>0</td>\n",
       "      <td>1</td>\n",
       "      <td>1</td>\n",
       "      <td>0</td>\n",
       "      <td>-1.0</td>\n",
       "      <td>3</td>\n",
       "      <td>1</td>\n",
       "      <td>1</td>\n",
       "    </tr>\n",
       "    <tr>\n",
       "      <th>2</th>\n",
       "      <td>24</td>\n",
       "      <td>0</td>\n",
       "      <td>0</td>\n",
       "      <td>2</td>\n",
       "      <td>1</td>\n",
       "      <td>1</td>\n",
       "      <td>4</td>\n",
       "      <td>-1.0</td>\n",
       "      <td>4</td>\n",
       "      <td>1</td>\n",
       "      <td>1</td>\n",
       "    </tr>\n",
       "    <tr>\n",
       "      <th>6</th>\n",
       "      <td>41</td>\n",
       "      <td>0</td>\n",
       "      <td>1</td>\n",
       "      <td>0</td>\n",
       "      <td>2</td>\n",
       "      <td>1</td>\n",
       "      <td>14</td>\n",
       "      <td>-1.0</td>\n",
       "      <td>6</td>\n",
       "      <td>1</td>\n",
       "      <td>1</td>\n",
       "    </tr>\n",
       "    <tr>\n",
       "      <th>8</th>\n",
       "      <td>39</td>\n",
       "      <td>1</td>\n",
       "      <td>1</td>\n",
       "      <td>0</td>\n",
       "      <td>1</td>\n",
       "      <td>0</td>\n",
       "      <td>0</td>\n",
       "      <td>-1.0</td>\n",
       "      <td>1</td>\n",
       "      <td>0</td>\n",
       "      <td>0</td>\n",
       "    </tr>\n",
       "    <tr>\n",
       "      <th>10</th>\n",
       "      <td>27</td>\n",
       "      <td>0</td>\n",
       "      <td>1</td>\n",
       "      <td>0</td>\n",
       "      <td>1</td>\n",
       "      <td>1</td>\n",
       "      <td>0</td>\n",
       "      <td>-1.0</td>\n",
       "      <td>4</td>\n",
       "      <td>0</td>\n",
       "      <td>0</td>\n",
       "    </tr>\n",
       "  </tbody>\n",
       "</table>\n",
       "</div>"
      ],
      "text/plain": [
       "    age  c_c_charge_degree  c_race  c_age_cat  c_score_text  c_sex  \\\n",
       "1    34                  0       0          0             1      1   \n",
       "2    24                  0       0          2             1      1   \n",
       "6    41                  0       1          0             2      1   \n",
       "8    39                  1       1          0             1      0   \n",
       "10   27                  0       1          0             1      1   \n",
       "\n",
       "    priors_count  days_b_screening_arrest  decile_score  is_recid  \\\n",
       "1              0                     -1.0             3         1   \n",
       "2              4                     -1.0             4         1   \n",
       "6             14                     -1.0             6         1   \n",
       "8              0                     -1.0             1         0   \n",
       "10             0                     -1.0             4         0   \n",
       "\n",
       "    two_year_recid  \n",
       "1                1  \n",
       "2                1  \n",
       "6                1  \n",
       "8                0  \n",
       "10               0  "
      ]
     },
     "execution_count": 80,
     "metadata": {},
     "output_type": "execute_result"
    }
   ],
   "source": [
    "c_column_names = ['age', 'c_c_charge_degree', 'c_race', 'c_age_cat', 'c_score_text', 'c_sex', 'priors_count',\n",
    "                'days_b_screening_arrest', 'decile_score', 'is_recid', 'two_year_recid']\n",
    "# c_column_names = ['age', 'c_c_charge_degree', 'c_race', 'c_age_cat', 'c_score_text', 'c_sex', 'priors_count',\n",
    "#                 'days_b_screening_arrest', 'decile_score', 'is_recid', 'two_year_recid', 'length_of_stay']\n",
    "df[c_column_names].head()"
   ]
  },
  {
   "cell_type": "code",
   "execution_count": 81,
   "metadata": {},
   "outputs": [
    {
     "data": {
      "text/html": [
       "<div>\n",
       "<style scoped>\n",
       "    .dataframe tbody tr th:only-of-type {\n",
       "        vertical-align: middle;\n",
       "    }\n",
       "\n",
       "    .dataframe tbody tr th {\n",
       "        vertical-align: top;\n",
       "    }\n",
       "\n",
       "    .dataframe thead th {\n",
       "        text-align: right;\n",
       "    }\n",
       "</style>\n",
       "<table border=\"1\" class=\"dataframe\">\n",
       "  <thead>\n",
       "    <tr style=\"text-align: right;\">\n",
       "      <th></th>\n",
       "      <th>age</th>\n",
       "      <th>c_c_charge_degree</th>\n",
       "      <th>c_race</th>\n",
       "      <th>c_age_cat</th>\n",
       "      <th>c_score_text</th>\n",
       "      <th>c_sex</th>\n",
       "      <th>priors_count</th>\n",
       "      <th>days_b_screening_arrest</th>\n",
       "      <th>is_recid</th>\n",
       "    </tr>\n",
       "  </thead>\n",
       "  <tbody>\n",
       "    <tr>\n",
       "      <th>1</th>\n",
       "      <td>34</td>\n",
       "      <td>0</td>\n",
       "      <td>0</td>\n",
       "      <td>0</td>\n",
       "      <td>1</td>\n",
       "      <td>1</td>\n",
       "      <td>0</td>\n",
       "      <td>-1.0</td>\n",
       "      <td>1</td>\n",
       "    </tr>\n",
       "    <tr>\n",
       "      <th>2</th>\n",
       "      <td>24</td>\n",
       "      <td>0</td>\n",
       "      <td>0</td>\n",
       "      <td>2</td>\n",
       "      <td>1</td>\n",
       "      <td>1</td>\n",
       "      <td>4</td>\n",
       "      <td>-1.0</td>\n",
       "      <td>1</td>\n",
       "    </tr>\n",
       "    <tr>\n",
       "      <th>6</th>\n",
       "      <td>41</td>\n",
       "      <td>0</td>\n",
       "      <td>1</td>\n",
       "      <td>0</td>\n",
       "      <td>2</td>\n",
       "      <td>1</td>\n",
       "      <td>14</td>\n",
       "      <td>-1.0</td>\n",
       "      <td>1</td>\n",
       "    </tr>\n",
       "    <tr>\n",
       "      <th>8</th>\n",
       "      <td>39</td>\n",
       "      <td>1</td>\n",
       "      <td>1</td>\n",
       "      <td>0</td>\n",
       "      <td>1</td>\n",
       "      <td>0</td>\n",
       "      <td>0</td>\n",
       "      <td>-1.0</td>\n",
       "      <td>0</td>\n",
       "    </tr>\n",
       "    <tr>\n",
       "      <th>10</th>\n",
       "      <td>27</td>\n",
       "      <td>0</td>\n",
       "      <td>1</td>\n",
       "      <td>0</td>\n",
       "      <td>1</td>\n",
       "      <td>1</td>\n",
       "      <td>0</td>\n",
       "      <td>-1.0</td>\n",
       "      <td>0</td>\n",
       "    </tr>\n",
       "  </tbody>\n",
       "</table>\n",
       "</div>"
      ],
      "text/plain": [
       "    age  c_c_charge_degree  c_race  c_age_cat  c_score_text  c_sex  \\\n",
       "1    34                  0       0          0             1      1   \n",
       "2    24                  0       0          2             1      1   \n",
       "6    41                  0       1          0             2      1   \n",
       "8    39                  1       1          0             1      0   \n",
       "10   27                  0       1          0             1      1   \n",
       "\n",
       "    priors_count  days_b_screening_arrest  is_recid  \n",
       "1              0                     -1.0         1  \n",
       "2              4                     -1.0         1  \n",
       "6             14                     -1.0         1  \n",
       "8              0                     -1.0         0  \n",
       "10             0                     -1.0         0  "
      ]
     },
     "execution_count": 81,
     "metadata": {},
     "output_type": "execute_result"
    }
   ],
   "source": [
    "df2 = df[c_column_names]\n",
    "X = df2.loc[:, df2.columns != 'two_year_recid']\n",
    "X = X.loc[:, X.columns != 'decile_score']\n",
    "X.head()"
   ]
  },
  {
   "cell_type": "code",
   "execution_count": 82,
   "metadata": {},
   "outputs": [
    {
     "data": {
      "text/plain": [
       "1     3\n",
       "2     4\n",
       "6     6\n",
       "8     1\n",
       "10    4\n",
       "Name: decile_score, dtype: int64"
      ]
     },
     "execution_count": 82,
     "metadata": {},
     "output_type": "execute_result"
    }
   ],
   "source": [
    "# y = df2['two_year_recid']\n",
    "y = df2['decile_score']\n",
    "y.head()"
   ]
  },
  {
   "cell_type": "code",
   "execution_count": 83,
   "metadata": {},
   "outputs": [],
   "source": [
    "X_train, X_test, y_train, y_test = train_test_split(X, y, test_size=0.3, random_state=42)"
   ]
  },
  {
   "cell_type": "code",
   "execution_count": 84,
   "metadata": {},
   "outputs": [
    {
     "name": "stderr",
     "output_type": "stream",
     "text": [
      "[Parallel(n_jobs=2)]: Using backend LokyBackend with 2 concurrent workers.\n",
      "[Parallel(n_jobs=2)]: Done   5 out of   5 | elapsed:   35.1s finished\n"
     ]
    }
   ],
   "source": [
    "logistic_regression_cv = LogisticRegressionCV(\n",
    "    cv=5, max_iter=10000, n_jobs=2, verbose=1, multi_class=\"auto\").fit(\n",
    "    X_train, y_train)\n"
   ]
  },
  {
   "cell_type": "code",
   "execution_count": 85,
   "metadata": {},
   "outputs": [],
   "source": [
    "y_pred = logistic_regression_cv.predict(X_test)"
   ]
  },
  {
   "cell_type": "code",
   "execution_count": 86,
   "metadata": {},
   "outputs": [
    {
     "data": {
      "text/plain": [
       "(array([0.62907268, 0.42105263, 0.44      , 0.41791045, 0.45081967,\n",
       "        0.40625   , 0.37795276, 0.38461538, 0.34677419, 0.48275862]),\n",
       " array([0.87456446, 0.45070423, 0.06145251, 0.48554913, 0.71895425,\n",
       "        0.17808219, 0.35294118, 0.50458716, 0.40186916, 0.17283951]),\n",
       " array([0.73177843, 0.43537415, 0.10784314, 0.44919786, 0.55415617,\n",
       "        0.24761905, 0.36501901, 0.43650794, 0.37229437, 0.25454545]))"
      ]
     },
     "execution_count": 86,
     "metadata": {},
     "output_type": "execute_result"
    }
   ],
   "source": [
    "prfs = precision_recall_fscore_support(y_test, y_pred)\n",
    "prfs[:-1]\n",
    "# pd.DataFrame(prfs[:-1],index=[\"Precisão\", \"Revocação\", \"F1\"])"
   ]
  },
  {
   "cell_type": "markdown",
   "metadata": {},
   "source": [
    "### Cálculo das métricas"
   ]
  },
  {
   "cell_type": "code",
   "execution_count": 87,
   "metadata": {},
   "outputs": [
    {
     "name": "stderr",
     "output_type": "stream",
     "text": [
      "C:\\ProgramData\\Anaconda3\\lib\\site-packages\\ipykernel_launcher.py:2: SettingWithCopyWarning: \n",
      "A value is trying to be set on a copy of a slice from a DataFrame.\n",
      "Try using .loc[row_indexer,col_indexer] = value instead\n",
      "\n",
      "See the caveats in the documentation: http://pandas.pydata.org/pandas-docs/stable/indexing.html#indexing-view-versus-copy\n",
      "  \n"
     ]
    },
    {
     "data": {
      "text/plain": [
       "7"
      ]
     },
     "execution_count": 87,
     "metadata": {},
     "output_type": "execute_result"
    }
   ],
   "source": [
    "df_temp = X_test\n",
    "df_temp['pred_decile_score'] = y_pred\n",
    "df_temp['pred_decile_score'][89]"
   ]
  },
  {
   "cell_type": "code",
   "execution_count": 92,
   "metadata": {},
   "outputs": [],
   "source": [
    "df_metrics = X_test.copy()\n",
    "df_metrics['pred_decile_score'] = y_pred\n",
    "df_metrics['two_year_recid'] = df2['two_year_recid']"
   ]
  },
  {
   "cell_type": "markdown",
   "metadata": {},
   "source": [
    "## Calibration assessment"
   ]
  },
  {
   "cell_type": "code",
   "execution_count": 93,
   "metadata": {},
   "outputs": [],
   "source": [
    "df_calibration= pd.DataFrame(columns=['Score','Probability', 'Race'])"
   ]
  },
  {
   "cell_type": "code",
   "execution_count": 94,
   "metadata": {},
   "outputs": [
    {
     "name": "stdout",
     "output_type": "stream",
     "text": [
      "Score:  1 race_code:  0 num:  352 dem:  1551  num/dem:  0.22695035460992907\n",
      "Score:  1 race_code:  1 num:  671 dem:  2838  num/dem:  0.2364341085271318\n",
      "Score:  2 race_code:  0 num:  440 dem:  1551  num/dem:  0.28368794326241137\n",
      "Score:  2 race_code:  1 num:  330 dem:  957  num/dem:  0.3448275862068966\n",
      "Score:  3 race_code:  0 num:  11 dem:  187  num/dem:  0.058823529411764705\n",
      "Score:  3 race_code:  1 num:  22 dem:  88  num/dem:  0.25\n",
      "Score:  4 race_code:  0 num:  957 dem:  1518  num/dem:  0.6304347826086957\n",
      "Score:  4 race_code:  1 num:  363 dem:  693  num/dem:  0.5238095238095238\n",
      "Score:  5 race_code:  0 num:  286 dem:  1408  num/dem:  0.203125\n",
      "Score:  5 race_code:  1 num:  517 dem:  1276  num/dem:  0.4051724137931034\n",
      "Score:  6 race_code:  0 num:  319 dem:  407  num/dem:  0.7837837837837838\n",
      "Score:  6 race_code:  1 num:  275 dem:  297  num/dem:  0.9259259259259259\n",
      "Score:  7 race_code:  0 num:  1067 dem:  1342  num/dem:  0.7950819672131147\n",
      "Score:  7 race_code:  1 num:  55 dem:  55  num/dem:  1.0\n",
      "Score:  8 race_code:  0 num:  902 dem:  1177  num/dem:  0.7663551401869159\n",
      "Score:  8 race_code:  1 num:  341 dem:  396  num/dem:  0.8611111111111112\n",
      "Score:  9 race_code:  0 num:  792 dem:  1188  num/dem:  0.6666666666666666\n",
      "Score:  9 race_code:  1 num:  77 dem:  176  num/dem:  0.4375\n",
      "Score:  10 race_code:  0 num:  286 dem:  297  num/dem:  0.9629629629629629\n",
      "Score:  10 race_code:  1 num:  22 dem:  22  num/dem:  1.0\n"
     ]
    }
   ],
   "source": [
    "# matrix = threshold x race_code\n",
    "\n",
    "for score in range(1, 11):\n",
    "    for race_code in range(0, 2):\n",
    "        result_df = df_metrics[df_metrics[\"pred_decile_score\"] == score]\n",
    "        result_df = result_df[result_df[\"c_race\"] == race_code]\n",
    "        result_df = result_df[result_df[\"two_year_recid\"] == 1]\n",
    "        num = result_df.size\n",
    "\n",
    "        result_df = df_metrics[df_metrics[\"pred_decile_score\"] == score]\n",
    "        result_df = result_df[result_df[\"c_race\"] == race_code]\n",
    "        dem = result_df.size\n",
    "        df_calibration = df_calibration.append({'Score': score, 'Probability':num/dem , 'Race' : race_code} , ignore_index=True)\n",
    "        print(\"Score: \", score, \"race_code: \", race_code,  \"num: \",  num,  \"dem: \",  dem, \" num/dem: \", num/dem)"
   ]
  },
  {
   "cell_type": "code",
   "execution_count": 95,
   "metadata": {},
   "outputs": [
    {
     "data": {
      "text/plain": [
       "<seaborn.axisgrid.FacetGrid at 0x1d63f7b0470>"
      ]
     },
     "execution_count": 95,
     "metadata": {},
     "output_type": "execute_result"
    },
    {
     "data": {
      "image/png": "[encoded data removed]",
      "text/plain": [
       "<Figure size 486.975x432 with 1 Axes>"
      ]
     },
     "metadata": {},
     "output_type": "display_data"
    }
   ],
   "source": [
    "sns.set(style=\"whitegrid\")\n",
    "\n",
    "# Draw a nested barplot to show survival for class and sex\n",
    "g = sns.catplot(x=\"Score\", y=\"Probability\", hue=\"Race\", data=df_calibration,\n",
    "                height=6, kind=\"bar\", palette=\"muted\")\n",
    "g.despine(left=True)\n",
    "g.set_ylabels(\"Observed probability of recidivism\")"
   ]
  },
  {
   "cell_type": "markdown",
   "metadata": {},
   "source": [
    "## Predictive Parity assessment"
   ]
  },
  {
   "cell_type": "code",
   "execution_count": 96,
   "metadata": {},
   "outputs": [],
   "source": [
    "df_errorRate= pd.DataFrame(columns=['Threshold','Probability', 'Race'])"
   ]
  },
  {
   "cell_type": "code",
   "execution_count": 97,
   "metadata": {},
   "outputs": [
    {
     "name": "stdout",
     "output_type": "stream",
     "text": [
      "Threshold:  0 race_code:  0 num:  5412 dem:  10626  num/dem:  0.5093167701863354\n",
      "Threshold:  0 race_code:  1 num:  2673 dem:  6798  num/dem:  0.3932038834951456\n",
      "Threshold:  1 race_code:  0 num:  5060 dem:  9075  num/dem:  0.5575757575757576\n",
      "Threshold:  1 race_code:  1 num:  2002 dem:  3960  num/dem:  0.5055555555555555\n",
      "Threshold:  2 race_code:  0 num:  4620 dem:  7524  num/dem:  0.6140350877192983\n",
      "Threshold:  2 race_code:  1 num:  1672 dem:  3003  num/dem:  0.5567765567765568\n",
      "Threshold:  3 race_code:  0 num:  4609 dem:  7337  num/dem:  0.6281859070464768\n",
      "Threshold:  3 race_code:  1 num:  1650 dem:  2915  num/dem:  0.5660377358490566\n",
      "Threshold:  4 race_code:  0 num:  3652 dem:  5819  num/dem:  0.6275992438563327\n",
      "Threshold:  4 race_code:  1 num:  1287 dem:  2222  num/dem:  0.5792079207920792\n",
      "Threshold:  5 race_code:  0 num:  3366 dem:  4411  num/dem:  0.7630922693266833\n",
      "Threshold:  5 race_code:  1 num:  770 dem:  946  num/dem:  0.813953488372093\n",
      "Threshold:  6 race_code:  0 num:  3047 dem:  4004  num/dem:  0.760989010989011\n",
      "Threshold:  6 race_code:  1 num:  495 dem:  649  num/dem:  0.7627118644067796\n",
      "Threshold:  7 race_code:  0 num:  1980 dem:  2662  num/dem:  0.743801652892562\n",
      "Threshold:  7 race_code:  1 num:  440 dem:  594  num/dem:  0.7407407407407407\n",
      "Threshold:  8 race_code:  0 num:  1078 dem:  1485  num/dem:  0.725925925925926\n",
      "Threshold:  8 race_code:  1 num:  99 dem:  198  num/dem:  0.5\n",
      "Threshold:  9 race_code:  0 num:  286 dem:  297  num/dem:  0.9629629629629629\n",
      "Threshold:  9 race_code:  1 num:  22 dem:  22  num/dem:  1.0\n"
     ]
    }
   ],
   "source": [
    "# matrix = threshold x race_code\n",
    "\n",
    "for threshold in range(0, 10):\n",
    "    for race_code in range(0, 2):\n",
    "        result_df = df_metrics[df_metrics[\"pred_decile_score\"] > threshold]\n",
    "        result_df = result_df[result_df[\"c_race\"] == race_code]\n",
    "        result_df = result_df[result_df[\"two_year_recid\"] == 1]\n",
    "        num = result_df.size\n",
    "\n",
    "        result_df = df_metrics[df_metrics[\"c_race\"] == race_code]\n",
    "        result_df = result_df[result_df[\"pred_decile_score\"] > threshold]\n",
    "        dem = result_df.size\n",
    "        df_errorRate = df_errorRate.append({'Threshold': threshold, 'Probability':num/dem , 'Race' : race_code} , ignore_index=True)\n",
    "        print(\"Threshold: \", threshold, \"race_code: \", race_code,  \"num: \",  num,  \"dem: \",  dem, \" num/dem: \", num/dem)"
   ]
  },
  {
   "cell_type": "code",
   "execution_count": 98,
   "metadata": {},
   "outputs": [
    {
     "data": {
      "text/plain": [
       "<seaborn.axisgrid.FacetGrid at 0x1d64011df98>"
      ]
     },
     "execution_count": 98,
     "metadata": {},
     "output_type": "execute_result"
    },
    {
     "data": {
      "image/png": "[encoded data removed]",
      "text/plain": [
       "<Figure size 486.975x432 with 1 Axes>"
      ]
     },
     "metadata": {},
     "output_type": "display_data"
    }
   ],
   "source": [
    "sns.set(style=\"whitegrid\")\n",
    "\n",
    "# Draw a nested barplot to show survival for class and sex\n",
    "g = sns.catplot(x=\"Threshold\", y=\"Probability\", hue=\"Race\", data=df_errorRate,\n",
    "                height=6, kind=\"bar\", palette=\"muted\")\n",
    "g.despine(left=True)\n",
    "g.set_ylabels(\"False positive rate\")"
   ]
  },
  {
   "cell_type": "markdown",
   "metadata": {},
   "source": [
    "## Rerror balance assessment: FPR"
   ]
  },
  {
   "cell_type": "code",
   "execution_count": 99,
   "metadata": {},
   "outputs": [],
   "source": [
    "df_errorRate= pd.DataFrame(columns=['Threshold','Probability', 'Race'])"
   ]
  },
  {
   "cell_type": "code",
   "execution_count": 100,
   "metadata": {},
   "outputs": [
    {
     "name": "stdout",
     "output_type": "stream",
     "text": [
      "Threshold:  0 race_code:  0 num:  5214 dem:  5214  num/dem:  1.0\n",
      "Threshold:  0 race_code:  1 num:  4125 dem:  4125  num/dem:  1.0\n",
      "Threshold:  1 race_code:  0 num:  4015 dem:  5214  num/dem:  0.770042194092827\n",
      "Threshold:  1 race_code:  1 num:  1958 dem:  4125  num/dem:  0.4746666666666667\n",
      "Threshold:  2 race_code:  0 num:  2904 dem:  5214  num/dem:  0.5569620253164557\n",
      "Threshold:  2 race_code:  1 num:  1331 dem:  4125  num/dem:  0.32266666666666666\n",
      "Threshold:  3 race_code:  0 num:  2728 dem:  5214  num/dem:  0.5232067510548524\n",
      "Threshold:  3 race_code:  1 num:  1265 dem:  4125  num/dem:  0.30666666666666664\n",
      "Threshold:  4 race_code:  0 num:  2167 dem:  5214  num/dem:  0.41561181434599154\n",
      "Threshold:  4 race_code:  1 num:  935 dem:  4125  num/dem:  0.22666666666666666\n",
      "Threshold:  5 race_code:  0 num:  1045 dem:  5214  num/dem:  0.20042194092827004\n",
      "Threshold:  5 race_code:  1 num:  176 dem:  4125  num/dem:  0.042666666666666665\n",
      "Threshold:  6 race_code:  0 num:  957 dem:  5214  num/dem:  0.18354430379746836\n",
      "Threshold:  6 race_code:  1 num:  154 dem:  4125  num/dem:  0.037333333333333336\n",
      "Threshold:  7 race_code:  0 num:  682 dem:  5214  num/dem:  0.1308016877637131\n",
      "Threshold:  7 race_code:  1 num:  154 dem:  4125  num/dem:  0.037333333333333336\n",
      "Threshold:  8 race_code:  0 num:  407 dem:  5214  num/dem:  0.07805907172995781\n",
      "Threshold:  8 race_code:  1 num:  99 dem:  4125  num/dem:  0.024\n",
      "Threshold:  9 race_code:  0 num:  11 dem:  5214  num/dem:  0.002109704641350211\n",
      "Threshold:  9 race_code:  1 num:  0 dem:  4125  num/dem:  0.0\n"
     ]
    }
   ],
   "source": [
    "# matrix = threshold x race_code\n",
    "\n",
    "for threshold in range(0, 10):\n",
    "    for race_code in range(0, 2):\n",
    "        result_df = df_metrics[df_metrics[\"pred_decile_score\"] > threshold]\n",
    "        result_df = result_df[result_df[\"c_race\"] == race_code]\n",
    "        result_df = result_df[result_df[\"two_year_recid\"] == 0]\n",
    "        num = result_df.size\n",
    "\n",
    "        result_df = df_metrics[df_metrics[\"c_race\"] == race_code]\n",
    "        result_df = result_df[result_df[\"two_year_recid\"] == 0]\n",
    "        dem = result_df.size\n",
    "        df_errorRate = df_errorRate.append({'Threshold': threshold, 'Probability':num/dem , 'Race' : race_code} , ignore_index=True)\n",
    "        print(\"Threshold: \", threshold, \"race_code: \", race_code,  \"num: \",  num,  \"dem: \",  dem, \" num/dem: \", num/dem)"
   ]
  },
  {
   "cell_type": "code",
   "execution_count": 101,
   "metadata": {},
   "outputs": [
    {
     "data": {
      "text/plain": [
       "<seaborn.axisgrid.FacetGrid at 0x1d640a0e908>"
      ]
     },
     "execution_count": 101,
     "metadata": {},
     "output_type": "execute_result"
    },
    {
     "data": {
      "image/png": "[encoded data removed]",
      "text/plain": [
       "<Figure size 486.975x432 with 1 Axes>"
      ]
     },
     "metadata": {},
     "output_type": "display_data"
    }
   ],
   "source": [
    "sns.set(style=\"whitegrid\")\n",
    "\n",
    "# Draw a nested barplot to show survival for class and sex\n",
    "g = sns.catplot(x=\"Threshold\", y=\"Probability\", hue=\"Race\", data=df_errorRate,\n",
    "                height=6, kind=\"bar\", palette=\"muted\")\n",
    "g.despine(left=True)\n",
    "g.set_ylabels(\"False positive rate\")"
   ]
  },
  {
   "cell_type": "markdown",
   "metadata": {},
   "source": [
    "## Rerror balance assessment: FNR"
   ]
  },
  {
   "cell_type": "code",
   "execution_count": 102,
   "metadata": {},
   "outputs": [],
   "source": [
    "df_errorNegative= pd.DataFrame(columns=['Threshold','Probability', 'Race'])"
   ]
  },
  {
   "cell_type": "code",
   "execution_count": 103,
   "metadata": {},
   "outputs": [
    {
     "name": "stdout",
     "output_type": "stream",
     "text": [
      "Threshold:  0 race_code:  0 num:  0 dem:  5412  num/dem:  0.0\n",
      "Threshold:  0 race_code:  1 num:  0 dem:  2673  num/dem:  0.0\n",
      "Threshold:  1 race_code:  0 num:  352 dem:  5412  num/dem:  0.06504065040650407\n",
      "Threshold:  1 race_code:  1 num:  671 dem:  2673  num/dem:  0.25102880658436216\n",
      "Threshold:  2 race_code:  0 num:  792 dem:  5412  num/dem:  0.14634146341463414\n",
      "Threshold:  2 race_code:  1 num:  1001 dem:  2673  num/dem:  0.37448559670781895\n",
      "Threshold:  3 race_code:  0 num:  803 dem:  5412  num/dem:  0.1483739837398374\n",
      "Threshold:  3 race_code:  1 num:  1023 dem:  2673  num/dem:  0.38271604938271603\n",
      "Threshold:  4 race_code:  0 num:  1760 dem:  5412  num/dem:  0.3252032520325203\n",
      "Threshold:  4 race_code:  1 num:  1386 dem:  2673  num/dem:  0.5185185185185185\n",
      "Threshold:  5 race_code:  0 num:  2046 dem:  5412  num/dem:  0.3780487804878049\n",
      "Threshold:  5 race_code:  1 num:  1903 dem:  2673  num/dem:  0.7119341563786008\n",
      "Threshold:  6 race_code:  0 num:  2365 dem:  5412  num/dem:  0.4369918699186992\n",
      "Threshold:  6 race_code:  1 num:  2178 dem:  2673  num/dem:  0.8148148148148148\n",
      "Threshold:  7 race_code:  0 num:  3432 dem:  5412  num/dem:  0.6341463414634146\n",
      "Threshold:  7 race_code:  1 num:  2233 dem:  2673  num/dem:  0.8353909465020576\n",
      "Threshold:  8 race_code:  0 num:  4334 dem:  5412  num/dem:  0.8008130081300813\n",
      "Threshold:  8 race_code:  1 num:  2574 dem:  2673  num/dem:  0.9629629629629629\n",
      "Threshold:  9 race_code:  0 num:  5126 dem:  5412  num/dem:  0.9471544715447154\n",
      "Threshold:  9 race_code:  1 num:  2651 dem:  2673  num/dem:  0.9917695473251029\n"
     ]
    }
   ],
   "source": [
    "# matrix = threshold x race_code\n",
    "\n",
    "for threshold in range(0, 10):\n",
    "    for race_code in range(0, 2):\n",
    "        result_df = df_metrics[df_metrics[\"pred_decile_score\"] <= threshold]\n",
    "        result_df = result_df[result_df[\"c_race\"] == race_code]\n",
    "        result_df = result_df[result_df[\"two_year_recid\"] == 1]\n",
    "        num = result_df.size\n",
    "\n",
    "        result_df = df_metrics[df_metrics[\"c_race\"] == race_code]\n",
    "        result_df = result_df[result_df[\"two_year_recid\"] == 1]\n",
    "        dem = result_df.size\n",
    "        df_errorNegative = df_errorNegative.append({'Threshold': threshold, 'Probability':num/dem , 'Race' : race_code} , ignore_index=True)\n",
    "        print(\"Threshold: \", threshold, \"race_code: \", race_code,  \"num: \",  num,  \"dem: \",  dem, \" num/dem: \", num/dem)"
   ]
  },
  {
   "cell_type": "code",
   "execution_count": 104,
   "metadata": {},
   "outputs": [
    {
     "data": {
      "text/plain": [
       "<seaborn.axisgrid.FacetGrid at 0x1d6409c2a90>"
      ]
     },
     "execution_count": 104,
     "metadata": {},
     "output_type": "execute_result"
    },
    {
     "data": {
      "image/png": "[encoded data removed]",
      "text/plain": [
       "<Figure size 486.975x432 with 1 Axes>"
      ]
     },
     "metadata": {},
     "output_type": "display_data"
    }
   ],
   "source": [
    "sns.set(style=\"whitegrid\")\n",
    "\n",
    "# Draw a nested barplot to show survival for class and sex\n",
    "g = sns.catplot(x=\"Threshold\", y=\"Probability\", hue=\"Race\", data=df_errorNegative,\n",
    "                height=6, kind=\"bar\", palette=\"muted\")\n",
    "g.despine(left=True)\n",
    "g.set_ylabels(\"False positive rate\")"
   ]
  },
  {
   "cell_type": "code",
   "execution_count": null,
   "metadata": {},
   "outputs": [],
   "source": []
  }
 ],
 "metadata": {
  "kernelspec": {
   "display_name": "Python 3",
   "language": "python",
   "name": "python3"
  },
  "language_info": {
   "codemirror_mode": {
    "name": "ipython",
    "version": 3
   },
   "file_extension": ".py",
   "mimetype": "text/x-python",
   "name": "python",
   "nbconvert_exporter": "python",
   "pygments_lexer": "ipython3",
   "version": "3.7.1"
  }
 },
 "nbformat": 4,
 "nbformat_minor": 2
}
